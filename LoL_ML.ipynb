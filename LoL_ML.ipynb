{
  "nbformat": 4,
  "nbformat_minor": 0,
  "metadata": {
    "colab": {
      "name": "LoL ML.ipynb",
      "provenance": [],
      "collapsed_sections": [],
      "authorship_tag": "ABX9TyOR5sCxCROkGvZywVUklxog",
      "include_colab_link": true
    },
    "kernelspec": {
      "name": "python3",
      "display_name": "Python 3"
    }
  },
  "cells": [
    {
      "cell_type": "markdown",
      "metadata": {
        "id": "view-in-github",
        "colab_type": "text"
      },
      "source": [
        "<a href=\"https://colab.research.google.com/github/Kevinjchang98/lol-ml/blob/master/LoL_ML.ipynb\" target=\"_parent\"><img src=\"https://colab.research.google.com/assets/colab-badge.svg\" alt=\"Open In Colab\"/></a>"
      ]
    },
    {
      "cell_type": "code",
      "metadata": {
        "id": "OyF3XSBp15nu",
        "colab_type": "code",
        "colab": {}
      },
      "source": [
        "!pip install -q sklearn"
      ],
      "execution_count": null,
      "outputs": []
    },
    {
      "cell_type": "code",
      "metadata": {
        "id": "YYX29bFyHjpa",
        "colab_type": "code",
        "colab": {}
      },
      "source": [
        "%tensorflow_version 2.x"
      ],
      "execution_count": null,
      "outputs": []
    },
    {
      "cell_type": "code",
      "metadata": {
        "id": "ihY_LhlbHm1-",
        "colab_type": "code",
        "colab": {}
      },
      "source": [
        "from __future__ import absolute_import, division, print_function, unicode_literals\n",
        "\n",
        "import numpy as np\n",
        "import pandas as pd\n",
        "import matplotlib.pyplot as plt\n",
        "from IPython.display import clear_output\n",
        "from six.moves import urllib\n",
        "\n",
        "import tensorflow.compat.v2.feature_column as fc\n",
        "\n",
        "import tensorflow as tf"
      ],
      "execution_count": null,
      "outputs": []
    },
    {
      "cell_type": "code",
      "metadata": {
        "id": "WdY2c1dnH3_s",
        "colab_type": "code",
        "colab": {}
      },
      "source": [
        "dfTrain = pd.read_csv('/content/train.csv')\n",
        "dfEval = pd.read_csv('/content/eval.csv')\n",
        "\n",
        "# Separate data used to classify from result we're looking for (survived or not)\n",
        "yTrain = dfTrain.pop('win')\n",
        "yEval = dfEval.pop('win')"
      ],
      "execution_count": null,
      "outputs": []
    },
    {
      "cell_type": "code",
      "metadata": {
        "id": "NW8hrOr5LDBP",
        "colab_type": "code",
        "colab": {}
      },
      "source": [
        "CATEGORICAL_COLUMNS = ['item0', 'item1', 'item2', 'item3', 'item4', 'item5', 'item6', 'perk0',\t'perk0Var1',\t'perk0Var2',\t'perk0Var3',\t'perk1',\t'perk1Var1',\t'perk1Var2',\t'perk1Var3',\t'perk2',\t'perk2Var1',\t'perk2Var2',\t'perk2Var3',\t'perk3',\t'perk3Var1',\t'perk3Var2',\t'perk3Var3',\t'perk4',\t'perk4Var1',\t'perk4Var2',\t'perk4Var3',\t'perk5',\t'perk5Var1',\t'perk5Var2',\t'perk5Var3',\t'perkPrimaryStyle',\t'perkSubStyle',\t'statPerk0',\t'statPerk1',\t'statPerk2']\n",
        "\n",
        "# Create blank list\n",
        "featureColumns = []\n",
        "\n",
        "for featureName in CATEGORICAL_COLUMNS:\n",
        "  vocabulary = dfTrain[featureName].unique() # Get unique values from given feature column as list\n",
        "  featureColumns.append(tf.feature_column.categorical_column_with_vocabulary_list(featureName, vocabulary))\n"
      ],
      "execution_count": null,
      "outputs": []
    },
    {
      "cell_type": "code",
      "metadata": {
        "id": "MibF-eCXLRrw",
        "colab_type": "code",
        "colab": {}
      },
      "source": [
        "# Input functions\n",
        "\n",
        "def makeInputFn(dataDf, labelDf, numEpochs = 10, shuffle = True, batchSize = 32):\n",
        "  def inputFunction() : #Inner function that is returned\n",
        "    ds = tf.data.Dataset.from_tensor_slices((dict(dataDf), labelDf)) #Create tf.data.Dataset object that tensorflow needs\n",
        "    if shuffle:\n",
        "      ds = ds.shuffle(1000) # Shuffles order of data\n",
        "    ds = ds.batch(batchSize).repeat(numEpochs) # Split dataset into batches and repeat by number of epochs we want\n",
        "    return ds # Returns one batch of the ataset\n",
        "  return inputFunction # Returns a function object to be used\n",
        "\n",
        "trainInputFn = makeInputFn(dfTrain, yTrain)\n",
        "evalInputFn = makeInputFn(dfEval, yEval, numEpochs=1, shuffle=False)"
      ],
      "execution_count": null,
      "outputs": []
    },
    {
      "cell_type": "code",
      "metadata": {
        "id": "zDaxn_hcLMD9",
        "colab_type": "code",
        "colab": {
          "base_uri": "https://localhost:8080/",
          "height": 190
        },
        "outputId": "1a4078d9-0b77-4295-cf83-b29566b17a75"
      },
      "source": [
        "linearEst = tf.estimator.LinearClassifier(feature_columns=featureColumns)"
      ],
      "execution_count": null,
      "outputs": [
        {
          "output_type": "stream",
          "text": [
            "INFO:tensorflow:Using default config.\n",
            "WARNING:tensorflow:Using temporary folder as model directory: /tmp/tmp4rosazsr\n",
            "INFO:tensorflow:Using config: {'_model_dir': '/tmp/tmp4rosazsr', '_tf_random_seed': None, '_save_summary_steps': 100, '_save_checkpoints_steps': None, '_save_checkpoints_secs': 600, '_session_config': allow_soft_placement: true\n",
            "graph_options {\n",
            "  rewrite_options {\n",
            "    meta_optimizer_iterations: ONE\n",
            "  }\n",
            "}\n",
            ", '_keep_checkpoint_max': 5, '_keep_checkpoint_every_n_hours': 10000, '_log_step_count_steps': 100, '_train_distribute': None, '_device_fn': None, '_protocol': None, '_eval_distribute': None, '_experimental_distribute': None, '_experimental_max_worker_delay_secs': None, '_session_creation_timeout_secs': 7200, '_service': None, '_cluster_spec': ClusterSpec({}), '_task_type': 'worker', '_task_id': 0, '_global_id_in_cluster': 0, '_master': '', '_evaluation_master': '', '_is_chief': True, '_num_ps_replicas': 0, '_num_worker_replicas': 1}\n"
          ],
          "name": "stdout"
        }
      ]
    },
    {
      "cell_type": "code",
      "metadata": {
        "id": "IJv2KMvuPABG",
        "colab_type": "code",
        "colab": {
          "base_uri": "https://localhost:8080/",
          "height": 71
        },
        "outputId": "dea04fff-2623-4797-b3e1-21467aeeecc6"
      },
      "source": [
        "# Building the model\n",
        "\n",
        "linearEst.train(trainInputFn) # Trains\n",
        "\n",
        "result = linearEst.evaluate(evalInputFn) # Get model metrics by testing on test data\n",
        "\n",
        "clear_output()\n",
        "print(result['accuracy'])\n",
        "print(result)"
      ],
      "execution_count": null,
      "outputs": [
        {
          "output_type": "stream",
          "text": [
            "1.0\n",
            "{'accuracy': 1.0, 'accuracy_baseline': 0.50199205, 'auc': 1.0, 'auc_precision_recall': 1.0, 'average_loss': 0.008694667, 'label/mean': 0.50199205, 'loss': 0.008687625, 'precision': 1.0, 'prediction/mean': 0.5030141, 'recall': 1.0, 'global_step': 15710}\n"
          ],
          "name": "stdout"
        }
      ]
    },
    {
      "cell_type": "code",
      "metadata": {
        "id": "e9vTNWehPtKk",
        "colab_type": "code",
        "colab": {
          "base_uri": "https://localhost:8080/",
          "height": 765
        },
        "outputId": "986d323f-0c99-4995-c193-77a1f06e83de"
      },
      "source": [
        "# Predictions\n",
        "\n",
        "result = list(linearEst.predict(evalInputFn))\n",
        "\n",
        "print(dfEval.loc[20])\n",
        "print(result[20]['probabilities'][1])"
      ],
      "execution_count": null,
      "outputs": [
        {
          "output_type": "stream",
          "text": [
            "INFO:tensorflow:Calling model_fn.\n",
            "INFO:tensorflow:Done calling model_fn.\n",
            "INFO:tensorflow:Graph was finalized.\n",
            "INFO:tensorflow:Restoring parameters from /tmp/tmp4rosazsr/model.ckpt-15710\n",
            "INFO:tensorflow:Running local_init_op.\n",
            "INFO:tensorflow:Done running local_init_op.\n",
            "item0               3857\n",
            "item1               2055\n",
            "item2               3050\n",
            "item3               3067\n",
            "item4                  0\n",
            "item5               3009\n",
            "item6               3364\n",
            "perk0               8360\n",
            "perk0Var1             10\n",
            "perk0Var2              0\n",
            "perk0Var3              0\n",
            "perk1               8306\n",
            "perk1Var1              3\n",
            "perk1Var2              0\n",
            "perk1Var3              0\n",
            "perk2               8345\n",
            "perk2Var1              3\n",
            "perk2Var2              0\n",
            "perk2Var3              0\n",
            "perk3               8347\n",
            "perk3Var1              0\n",
            "perk3Var2              0\n",
            "perk3Var3              0\n",
            "perk4               8275\n",
            "perk4Var1             16\n",
            "perk4Var2              0\n",
            "perk4Var3              0\n",
            "perk5               8232\n",
            "perk5Var1              0\n",
            "perk5Var2             50\n",
            "perk5Var3              0\n",
            "perkPrimaryStyle    8300\n",
            "perkSubStyle        8200\n",
            "statPerk0           5005\n",
            "statPerk1           5008\n",
            "statPerk2           5002\n",
            "Name: 20, dtype: int64\n",
            "0.009414203\n"
          ],
          "name": "stdout"
        }
      ]
    }
  ]
}